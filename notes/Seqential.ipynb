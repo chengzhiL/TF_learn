{
 "cells": [
  {
   "cell_type": "markdown",
   "id": "2c3527a2-14a6-4901-af70-d6489f23b65f",
   "metadata": {},
   "source": [
    "# Sequential"
   ]
  },
  {
   "cell_type": "markdown",
   "id": "5943cebb-e618-4dcd-a477-097fa054accc",
   "metadata": {},
   "source": [
    "- Sequential 建立模型-六步\n",
    "1. \n",
    "2.\n",
    "3.\n",
    "4.\n",
    "5.\n",
    "6.\n"
   ]
  },
  {
   "cell_type": "code",
   "execution_count": null,
   "id": "362fb798-92c1-48fc-9a85-7cd9ef0d5975",
   "metadata": {},
   "outputs": [],
   "source": [
    "model = tf.keras.models.Sequential([网格结构]) # 描述各层网络结构\n",
    "网络结构举例：\n",
    "拉直层：tf.keras.layers.Flatten()\n",
    "全连接层： tf.keras.layers.Dense(神经元个数, activation=”激活函数“,kernel_regularizer=正则化方式)\n",
    "# aciivation:relu, softmax,sigmoid,tanh\n",
    "# kernel_regularizer: tf.keres.regularizers.l1(), tf.keras.regularizers.l2()\n",
    "卷积层：tf.keras.layers.Conv2D(filters = 卷积核个数，keras_size = 卷积核尺寸，strides = 卷积步长，padding = \"valid\" or \"same\")\n",
    "LSTM层：tf.keras.layers.LSTM()"
   ]
  },
  {
   "cell_type": "code",
   "execution_count": null,
   "id": "d7972bb9-4f97-44a4-85e8-7d4e0a543f91",
   "metadata": {},
   "outputs": [],
   "source": [
    "model.compile(optimizer = 优化器, loss = 损失函数, metrics = ['准确率'])\n",
    "Optimizer可选： \n",
    "'sgd' or tf.keras.optimizers.SGD(lr=学习率,momentum=动量参数)\n",
    "'adagrad' or tf.keras.optimizers.Adagrad(lr=学习率)\n",
    "'adadelta' or tf.keras.optimizers.Adadelta(lr=学习率）\n",
    "'adam' or tf.keras.optimizers.Adam(lr=学习率，beta_1=0.9,beta_2=0.999)\n",
    "loss可选：\n",
    "'mse' or tf.keras.losses.MeanSquaredError()\n",
    "'sparse_categorical_crossentropy' or tf.keras.losses.SparseCategoricalCrosssentropy(from_logits = False)\n",
    "Metrics可选：\n",
    "'accuracy':y_ 和 y 都是数值，如y_=[1] y=[1]\n",
    "'categorical_accuracy': y_和y都是独热码（概率分布），如y_=[0,1,0] y=[0.1,0.8,0.1]\n",
    "'sparse_categorical_accuracy':y_是数值，y_是独热码。如y_=[1],y=[0.1,0.8,0.1]"
   ]
  },
  {
   "cell_type": "code",
   "execution_count": null,
   "id": "12f68bb6-2c8a-41a0-a971-fad4d45d763a",
   "metadata": {},
   "outputs": [],
   "source": [
    "model.fit(训练集的输入特征，训练集的标签，batch_size=, epochs=, validation_data=(测试集的输入特征，测试集的标签),\n",
    "          validation_split = 从训练集划分多少比例给测试集, validation_freq=多少次epoch测试一次)"
   ]
  }
 ],
 "metadata": {
  "kernelspec": {
   "display_name": "Python 3 (ipykernel)",
   "language": "python",
   "name": "python3"
  },
  "language_info": {
   "codemirror_mode": {
    "name": "ipython",
    "version": 3
   },
   "file_extension": ".py",
   "mimetype": "text/x-python",
   "name": "python",
   "nbconvert_exporter": "python",
   "pygments_lexer": "ipython3",
   "version": "3.9.19"
  }
 },
 "nbformat": 4,
 "nbformat_minor": 5
}
